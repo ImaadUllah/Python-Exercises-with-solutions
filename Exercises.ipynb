{
 "cells": [
  {
   "cell_type": "code",
   "execution_count": 1,
   "metadata": {},
   "outputs": [],
   "source": [
    "import numpy as np\n",
    "import pandas as pd\n",
    "import math"
   ]
  },
  {
   "cell_type": "markdown",
   "metadata": {},
   "source": [
    "### Question 1: \n",
    "Accept two int values from the user and return their product. If the product is greater than 1000, then return their sum"
   ]
  },
  {
   "cell_type": "code",
   "execution_count": null,
   "metadata": {},
   "outputs": [],
   "source": [
    "def condition():\n",
    "    num1 = int(input('Enter first number: '))\n",
    "    num2 = int(input('Enter second number: '))\n",
    "    prod = num1 * num2\n",
    "    sum = num1 + num2\n",
    "    if (prod > 1000):\n",
    "        return sum\n",
    "    else:\n",
    "        return prod\n",
    "\n",
    "condition()"
   ]
  },
  {
   "cell_type": "markdown",
   "metadata": {},
   "source": [
    "### Question 2: \n",
    "Given a range of numbers. Iterate from 0^th number to the end number and print the sum of the current number and previous number"
   ]
  },
  {
   "cell_type": "code",
   "execution_count": null,
   "metadata": {},
   "outputs": [],
   "source": [
    "def range_sum(number):\n",
    "    prev_number = 0\n",
    "    for i in range(number):\n",
    "        sum = i + prev_number\n",
    "        prev_number = i\n",
    "        print(sum)\n",
    "        \n",
    "range_sum(11)"
   ]
  },
  {
   "cell_type": "code",
   "execution_count": null,
   "metadata": {},
   "outputs": [],
   "source": [
    "limit = int(input('Enter the range of your choice:'))\n",
    "for i in range(limit):\n",
    "    print(i + (i+1));"
   ]
  },
  {
   "cell_type": "markdown",
   "metadata": {},
   "source": [
    "### Question 3: \n",
    "Accept string from the user and display only those characters which are present at an even index"
   ]
  },
  {
   "cell_type": "code",
   "execution_count": null,
   "metadata": {},
   "outputs": [],
   "source": [
    "string = input('Enter your string:')\n",
    "len_string = len(string)\n",
    "for i in range(0, len_string, 2):\n",
    "    print('index[',i, ']', string[i])"
   ]
  },
  {
   "cell_type": "markdown",
   "metadata": {},
   "source": [
    "### Question 4: \n",
    "Given a string and an int n, remove characters from string starting from zero up to n and return a new string"
   ]
  },
  {
   "cell_type": "code",
   "execution_count": null,
   "metadata": {},
   "outputs": [],
   "source": [
    "string2 = input('Enter your string: ')\n",
    "num = int(input('Enter your number: '))\n",
    "len_string2 = len(string2)\n",
    "print(string2[num:])"
   ]
  },
  {
   "cell_type": "markdown",
   "metadata": {},
   "source": [
    "### Question 5: \n",
    "Given a list of ints, return True if first and last number of a list is same"
   ]
  },
  {
   "cell_type": "code",
   "execution_count": null,
   "metadata": {},
   "outputs": [],
   "source": [
    "list_ = []\n",
    "limit = int(input('How many numbers you want to add to your list:'))\n",
    "for i in range(limit):\n",
    "    new_input = input(i + 1)\n",
    "    list_.append(new_input)\n",
    "\n",
    "if (list_[0] == list_[-1]):\n",
    "    print('Yes first and last elements are same:')\n",
    "else:\n",
    "    print('No first and last elements are not same:')"
   ]
  },
  {
   "cell_type": "markdown",
   "metadata": {},
   "source": [
    "### Question 6: \n",
    "Given a list of numbers, Iterate it and print only those numbers which are divisible of 5"
   ]
  },
  {
   "cell_type": "code",
   "execution_count": null,
   "metadata": {},
   "outputs": [],
   "source": [
    "def divisible_by_5(num_list, num):\n",
    "    len_list = len(num_list)\n",
    "    print('\\n\\nNumbers which are divisible by ', num, ' are: ')\n",
    "    for i in range(len_list):\n",
    "        if (num_list[i] % num == 0):\n",
    "            print(num_list[i])\n",
    "    \n",
    "list_new = []\n",
    "limit = int(input('Enter how many numbers you want to enter into your list: '))\n",
    "divisible_by = int(input('For which number do you want to find: '))\n",
    "print('Enter ', limit, 'numbers to your list. ')\n",
    "for i in range(1, limit+1):\n",
    "    new_input = int(input('Enter number'))\n",
    "    list_new.append(new_input)\n",
    "\n",
    "divisible_by_5(list_new, divisible_by)"
   ]
  },
  {
   "cell_type": "markdown",
   "metadata": {},
   "source": [
    "### Question 7: \n",
    "Return the number of times that the string “Emma” appears anywhere in the given string"
   ]
  },
  {
   "cell_type": "code",
   "execution_count": null,
   "metadata": {},
   "outputs": [],
   "source": [
    "def count_jhon(input_statement, input_word):\n",
    "    count_func = 0\n",
    "    len_input_word = len(input_word)\n",
    "    for i in range(len(input_statement)-1):\n",
    "        count_func += input_statement[i:i+len_input_word] == input_word\n",
    "    return count_func\n",
    "\n",
    "your_statment = input('Enter your own statement: ')\n",
    "word = input('For which word are you gonna find: ')\n",
    "word_length = len(word)\n",
    "count = count_jhon(your_statment, word)\n",
    "print(word, ' appeared ', count, \"times\")"
   ]
  },
  {
   "cell_type": "markdown",
   "metadata": {},
   "source": [
    "### Question 8: \n",
    "Print the following pattern\n",
    "#### 1\n",
    "#### 2  2 \n",
    "#### 3  3  3 \n",
    "#### 4  4  4  4 \n",
    "#### 5  5  5  5  5"
   ]
  },
  {
   "cell_type": "code",
   "execution_count": null,
   "metadata": {},
   "outputs": [],
   "source": [
    "for num in range(10):\n",
    "    for i in range(num):\n",
    "        print(num, end=' ')\n",
    "    print()"
   ]
  },
  {
   "cell_type": "markdown",
   "metadata": {},
   "source": [
    "### Question 9: \n",
    "def reverseCheck(number):\n",
    "  originalNum = number\n",
    "  reverseNum=0\n",
    "  while(number > 0):\n",
    "    reminder = number % 10\n",
    "    reverseNum  = (reverseNum *10) + reminder\n",
    "    number = number // 10\n",
    "  if(originalNum  == reverseNum):\n",
    "    return True\n",
    "  else:\n",
    "    return False\n",
    "    \n",
    "print(\"orignal and revers number is equal\")\n",
    "print(reverseCheck(121))Reverse a given number and return true if it is the same as the original number"
   ]
  },
  {
   "cell_type": "code",
   "execution_count": null,
   "metadata": {},
   "outputs": [],
   "source": [
    "def reverseCheck(number):\n",
    "    originalNum = number\n",
    "    reverseNum=0\n",
    "    while(number > 0):\n",
    "        reminder = number % 10\n",
    "        reverseNum  = (reverseNum *10) + reminder\n",
    "        number = number // 10\n",
    "    if(originalNum  == reverseNum):\n",
    "        return True\n",
    "    else:\n",
    "        return False\n",
    "num = int(input('Enter a number: ')) \n",
    "print(\"orignal and revers number is equal\")\n",
    "print(reverseCheck(num))\n"
   ]
  },
  {
   "cell_type": "markdown",
   "metadata": {},
   "source": [
    "### Question 10: \n",
    "Given a two list of ints create a third list such that should contain only odd numbers from the first list and even numbers from the second list"
   ]
  },
  {
   "cell_type": "code",
   "execution_count": null,
   "metadata": {},
   "outputs": [],
   "source": [
    "l1 = []\n",
    "l1_limit = int(input('Enter how many numbers you want in your first list.'))\n",
    "print('Enter ', l1_limit, 'numbers to your list. ')\n",
    "for s in range(1, l1_limit+1):\n",
    "    new_input = int(input('Enter number for first list'))\n",
    "    l1.append(new_input)\n",
    "l2 = []\n",
    "l2_limit = int(input('Enter how many numbers you want in your second list.'))\n",
    "print('Enter ', l2_limit, 'numbers to your list. ')\n",
    "for d in range(1, l2_limit+1):\n",
    "    new_input = int(input('Enter number for second list'))\n",
    "    l2.append(new_input)\n",
    "ln = []\n",
    "for i in range(len(l1)):\n",
    "    if (l1[i] % 2 == 1):\n",
    "        ln.append(l1[i])\n",
    "for j in range(len(l2)):\n",
    "    if (l2[j] % 2 == 0):\n",
    "        ln.append(l2[j])\n",
    "ln"
   ]
  },
  {
   "cell_type": "code",
   "execution_count": null,
   "metadata": {},
   "outputs": [],
   "source": []
  },
  {
   "cell_type": "markdown",
   "metadata": {},
   "source": [
    "# String Exercises"
   ]
  },
  {
   "cell_type": "markdown",
   "metadata": {},
   "source": [
    "### Question 1: \n",
    "Given a string of odd length greater 7, return a string made of the middle three chars of a given String"
   ]
  },
  {
   "cell_type": "code",
   "execution_count": null,
   "metadata": {},
   "outputs": [],
   "source": [
    "def middle_three(string):\n",
    "    str_length = len(string) - 3\n",
    "    half_str_length = int(str_length / 2)\n",
    "    print(string[half_str_length:half_str_length+3])\n",
    "name = input('Enter string of your choice.')\n",
    "middle_three(name)"
   ]
  },
  {
   "cell_type": "markdown",
   "metadata": {},
   "source": [
    "### Question 2: \n",
    "Given 2 strings, s1 and s2, create a new string by appending s2 in the middle of s1"
   ]
  },
  {
   "cell_type": "code",
   "execution_count": null,
   "metadata": {},
   "outputs": [],
   "source": [
    "def appendMiddle(s1, s2):\n",
    "    middleIndex = int(len(s1) /2)\n",
    "    print(\"Original Strings are\", s1, s2)\n",
    "    middleThree = s1[:middleIndex] + s2 + s1[middleIndex:]\n",
    "    print(\"After appending new string in middle\", middleThree)\n",
    "str1 = input('Enter first word.')\n",
    "str2 = input('Enter second word.')\n",
    "appendMiddle(str1, str2)"
   ]
  },
  {
   "cell_type": "code",
   "execution_count": null,
   "metadata": {},
   "outputs": [],
   "source": []
  },
  {
   "cell_type": "code",
   "execution_count": null,
   "metadata": {},
   "outputs": [],
   "source": [
    "def mixString(u1, u2):\n",
    "    u1_half_len = int(len(u1) / 2)\n",
    "    u2_half_len = int(len(u2) / 2)\n",
    "    return (u1[0] + u2[0] + u1[u1_half_len] + u2[u2_half_len] + u1[-1] + u2[-1])\n",
    "s1 = input('Enter first string. ')\n",
    "s2 = input('Enter second string. ')\n",
    "mixString(s1, s2)"
   ]
  },
  {
   "cell_type": "code",
   "execution_count": null,
   "metadata": {},
   "outputs": [],
   "source": []
  },
  {
   "cell_type": "markdown",
   "metadata": {},
   "source": [
    "# Python NumPy Exercise"
   ]
  },
  {
   "cell_type": "markdown",
   "metadata": {},
   "source": [
    "### Question 1: \n",
    "Create a 4X2 integer array and Prints its attributes\n"
   ]
  },
  {
   "cell_type": "code",
   "execution_count": null,
   "metadata": {},
   "outputs": [],
   "source": [
    "arr_q1 = np.arange(12, 20).reshape(4,2)\n",
    "print('Array is: \\n', arr_q1)\n",
    "print('Printing numpy array attributes: ')\n",
    "print('Shape:', arr_q1.shape)\n",
    "print('Dimension: ', arr_q1.ndim)\n",
    "print('Length of each element of array in bytes is: ', arr_q1.itemsize)"
   ]
  },
  {
   "cell_type": "markdown",
   "metadata": {},
   "source": [
    "### Question 2: \n",
    "Create a 5X2 integer array from a range between 100 to 200 such that the difference between each element is 10"
   ]
  },
  {
   "cell_type": "code",
   "execution_count": null,
   "metadata": {},
   "outputs": [],
   "source": [
    "arr_q2 = np.arange(100, 200, 10).reshape(5,2)\n",
    "arr_q2"
   ]
  },
  {
   "cell_type": "markdown",
   "metadata": {},
   "source": [
    "### Question 3:\n",
    "Following is the provided numPy array. return array of items in the third column from all rows\n",
    "###### [[11 22 33]\n",
    "######  [44 55 66]\n",
    "###### [77 88 99]]"
   ]
  },
  {
   "cell_type": "code",
   "execution_count": null,
   "metadata": {},
   "outputs": [],
   "source": [
    "arr_q3 = np.array([[11 ,22, 33], [44, 55, 66], [77, 88, 99]])\n",
    "print('Printing array of items in the third column from all rows: \\n', arr_q3[:,2])"
   ]
  },
  {
   "cell_type": "markdown",
   "metadata": {},
   "source": [
    "### Question 4: \n",
    "Following is the given numpy array return array of odd rows and even columns"
   ]
  },
  {
   "cell_type": "code",
   "execution_count": null,
   "metadata": {},
   "outputs": [],
   "source": [
    "arr_q4 = np.array([[3 ,6, 9, 12], [15 ,18, 21, 24], \n",
    "[27 ,30, 33, 36], [39 ,42, 45, 48], [51 ,54, 57, 60]])\n",
    "print('Original array is: \\n', arr_q4)\n",
    "print('\\nPrinting array of odd rows and even columns\\n', arr_q4[::2, 1::2])"
   ]
  },
  {
   "cell_type": "markdown",
   "metadata": {},
   "source": [
    "### Question 5: \n",
    "Add the following two NumPy arrays and Modify a result array by calculating the square root of each element"
   ]
  },
  {
   "cell_type": "code",
   "execution_count": null,
   "metadata": {},
   "outputs": [],
   "source": [
    "arr_q5_One = np.array([[5, 6, 9], [21 ,18, 27]])\n",
    "arr_q5_Two = np.array([[15 ,33, 24], [4 ,7, 1]])\n",
    "sum_arrays = arr_q5_One + arr_q5_Two\n",
    "sqrt_arrays = sum_arrays ** 2\n",
    "print('Addition of two arrays is: \\n', sum_arrays)\n",
    "print('\\nSquare root of each element of the array is: \\n', sqrt_arrays)"
   ]
  },
  {
   "cell_type": "markdown",
   "metadata": {},
   "source": [
    "### Question 6: \n",
    "Split the array into four equal-sized sub-arrays"
   ]
  },
  {
   "cell_type": "code",
   "execution_count": null,
   "metadata": {},
   "outputs": [],
   "source": [
    "arr_q6 = np.arange(10, 34).reshape(8,3)\n",
    "rows_q6_arr = arr_q6.shape[0]\n",
    "cols_q6_arr = arr_q6.shape[1]\n",
    "new_arr_rows = int(rows_q6_arr / 4)\n",
    "subArrays = np.split(arr_q6, 4) \n",
    "print(subArrays)"
   ]
  },
  {
   "cell_type": "code",
   "execution_count": null,
   "metadata": {},
   "outputs": [],
   "source": [
    "arr_q6"
   ]
  },
  {
   "cell_type": "code",
   "execution_count": null,
   "metadata": {},
   "outputs": [],
   "source": []
  },
  {
   "cell_type": "markdown",
   "metadata": {},
   "source": [
    "#### largest and smallest integers, longs, floats"
   ]
  },
  {
   "cell_type": "code",
   "execution_count": null,
   "metadata": {},
   "outputs": [],
   "source": [
    "list1 = [1, 3, 6, 8, 34, 23, 42, 56, 99, 12, 31]\n",
    "list2 = [21.3, 22.12, 5.1, 65.155, 648.6, 98.3333, 36.36, 72.27, 125.125, 93.71, 123.22]\n",
    "list3 = [123, 5456, 834, 686, 624864, 624987, 315686, 222222222222, 354686, 62346549, 316532153]\n",
    "l1_largest = list1[0]\n",
    "l2_largest = list2[0]\n",
    "l3_largest = list3[0]\n",
    "l1_smallest = list1[0]\n",
    "l2_smallest = list2[0]\n",
    "l3_smallest = list3[0]\n",
    "for i_l1 in range(len(list1)):\n",
    "    if list1[i_l1] > l1_largest:\n",
    "        l1_largest = list1[i_l1]\n",
    "    if list1[i_l1] < l1_smallest:\n",
    "        l1_smallest = list1[i_l1]\n",
    "print('LIST ONE')\n",
    "print('Largest element of list ONE is: ', l1_largest)\n",
    "print('Smallest element of list ONE is: ', l1_smallest)\n",
    "\n",
    "\n",
    "for i_l2 in range(len(list2)):\n",
    "    if list2[i_l2] > l2_largest:\n",
    "        l2_largest = list2[i_l2]\n",
    "    if list2[i_l2] < l2_smallest:\n",
    "        l2_smallest = list2[i_l2]\n",
    "print('\\nLIST TWO')\n",
    "print('Largest element of list TWO is: ', l2_largest)\n",
    "print('Smallest element of list TWO is: ', l2_smallest)\n",
    "\n",
    "\n",
    "for i_l3 in range(len(list3)):\n",
    "    if list3[i_l3] > l3_largest:\n",
    "        l3_largest = list3[i_l3]\n",
    "    if list3[i_l3] < l3_smallest:\n",
    "        l3_smallest = list3[i_l3]\n",
    "print('\\nLIST THREE')\n",
    "print('Largest element of list THREE is: ', l3_largest)\n",
    "print('Smallest element of list THREE is: ', l3_smallest)"
   ]
  },
  {
   "cell_type": "code",
   "execution_count": null,
   "metadata": {},
   "outputs": [],
   "source": []
  },
  {
   "cell_type": "markdown",
   "metadata": {},
   "source": [
    "## Matplotlib"
   ]
  },
  {
   "cell_type": "markdown",
   "metadata": {},
   "source": [
    "### Exercise 1: \n",
    "Read Total profit of all months and show it using a line plot"
   ]
  },
  {
   "cell_type": "code",
   "execution_count": 2,
   "metadata": {},
   "outputs": [],
   "source": [
    "import matplotlib.pyplot as plt\n",
    "import seaborn as sns"
   ]
  },
  {
   "cell_type": "code",
   "execution_count": 3,
   "metadata": {},
   "outputs": [
    {
     "data": {
      "text/html": [
       "<div>\n",
       "<style scoped>\n",
       "    .dataframe tbody tr th:only-of-type {\n",
       "        vertical-align: middle;\n",
       "    }\n",
       "\n",
       "    .dataframe tbody tr th {\n",
       "        vertical-align: top;\n",
       "    }\n",
       "\n",
       "    .dataframe thead th {\n",
       "        text-align: right;\n",
       "    }\n",
       "</style>\n",
       "<table border=\"1\" class=\"dataframe\">\n",
       "  <thead>\n",
       "    <tr style=\"text-align: right;\">\n",
       "      <th></th>\n",
       "      <th>month_number</th>\n",
       "      <th>facecream</th>\n",
       "      <th>facewash</th>\n",
       "      <th>toothpaste</th>\n",
       "      <th>bathingsoap</th>\n",
       "      <th>shampoo</th>\n",
       "      <th>moisturizer</th>\n",
       "      <th>total_units</th>\n",
       "      <th>total_profit</th>\n",
       "    </tr>\n",
       "  </thead>\n",
       "  <tbody>\n",
       "    <tr>\n",
       "      <th>0</th>\n",
       "      <td>1</td>\n",
       "      <td>2500</td>\n",
       "      <td>1500</td>\n",
       "      <td>5200</td>\n",
       "      <td>9200</td>\n",
       "      <td>1200</td>\n",
       "      <td>1500</td>\n",
       "      <td>21100</td>\n",
       "      <td>211000</td>\n",
       "    </tr>\n",
       "    <tr>\n",
       "      <th>1</th>\n",
       "      <td>2</td>\n",
       "      <td>2630</td>\n",
       "      <td>1200</td>\n",
       "      <td>5100</td>\n",
       "      <td>6100</td>\n",
       "      <td>2100</td>\n",
       "      <td>1200</td>\n",
       "      <td>18330</td>\n",
       "      <td>183300</td>\n",
       "    </tr>\n",
       "    <tr>\n",
       "      <th>2</th>\n",
       "      <td>3</td>\n",
       "      <td>2140</td>\n",
       "      <td>1340</td>\n",
       "      <td>4550</td>\n",
       "      <td>9550</td>\n",
       "      <td>3550</td>\n",
       "      <td>1340</td>\n",
       "      <td>22470</td>\n",
       "      <td>224700</td>\n",
       "    </tr>\n",
       "    <tr>\n",
       "      <th>3</th>\n",
       "      <td>4</td>\n",
       "      <td>3400</td>\n",
       "      <td>1130</td>\n",
       "      <td>5870</td>\n",
       "      <td>8870</td>\n",
       "      <td>1870</td>\n",
       "      <td>1130</td>\n",
       "      <td>22270</td>\n",
       "      <td>222700</td>\n",
       "    </tr>\n",
       "    <tr>\n",
       "      <th>4</th>\n",
       "      <td>5</td>\n",
       "      <td>3600</td>\n",
       "      <td>1740</td>\n",
       "      <td>4560</td>\n",
       "      <td>7760</td>\n",
       "      <td>1560</td>\n",
       "      <td>1740</td>\n",
       "      <td>20960</td>\n",
       "      <td>209600</td>\n",
       "    </tr>\n",
       "  </tbody>\n",
       "</table>\n",
       "</div>"
      ],
      "text/plain": [
       "   month_number  facecream  facewash  toothpaste  bathingsoap  shampoo  \\\n",
       "0             1       2500      1500        5200         9200     1200   \n",
       "1             2       2630      1200        5100         6100     2100   \n",
       "2             3       2140      1340        4550         9550     3550   \n",
       "3             4       3400      1130        5870         8870     1870   \n",
       "4             5       3600      1740        4560         7760     1560   \n",
       "\n",
       "   moisturizer  total_units  total_profit  \n",
       "0         1500        21100        211000  \n",
       "1         1200        18330        183300  \n",
       "2         1340        22470        224700  \n",
       "3         1130        22270        222700  \n",
       "4         1740        20960        209600  "
      ]
     },
     "execution_count": 3,
     "metadata": {},
     "output_type": "execute_result"
    }
   ],
   "source": [
    "data = pd.read_csv(r'company_sales_data.csv')\n",
    "data.head()"
   ]
  },
  {
   "cell_type": "code",
   "execution_count": 4,
   "metadata": {},
   "outputs": [
    {
     "data": {
      "text/plain": [
       "Index(['month_number', 'facecream', 'facewash', 'toothpaste', 'bathingsoap',\n",
       "       'shampoo', 'moisturizer', 'total_units', 'total_profit'],\n",
       "      dtype='object')"
      ]
     },
     "execution_count": 4,
     "metadata": {},
     "output_type": "execute_result"
    }
   ],
   "source": [
    "data.columns"
   ]
  },
  {
   "cell_type": "code",
   "execution_count": 5,
   "metadata": {},
   "outputs": [
    {
     "data": {
      "image/png": "[encoded data removed]",
      "text/plain": [
       "<Figure size 720x576 with 1 Axes>"
      ]
     },
     "metadata": {
      "needs_background": "light"
     },
     "output_type": "display_data"
    }
   ],
   "source": [
    "plt.figure(figsize=(10,8))\n",
    "plt.plot('month_number', 'total_profit', data=data)\n",
    "plt.xticks(data['month_number'].tolist())\n",
    "plt.yticks([100000, 200000, 300000, 400000, 500000])\n",
    "plt.show()"
   ]
  },
  {
   "cell_type": "markdown",
   "metadata": {},
   "source": [
    "### Exercise Question 2: \n",
    "Get Total profit of all months and show line plot with the following Style properties\n",
    "###### Line Style dotted and Line-color should be red\n",
    "###### Show legend at the lower right location\n",
    "###### X label name = Month Number\n",
    "###### Y label name = Sold units number\n",
    "###### Add a circle marker.\n",
    "###### Line marker color as read\n",
    "###### Line width should be 3"
   ]
  },
  {
   "cell_type": "code",
   "execution_count": 6,
   "metadata": {},
   "outputs": [
    {
     "data": {
      "image/png": "[encoded data removed]",
      "text/plain": [
       "<Figure size 504x360 with 1 Axes>"
      ]
     },
     "metadata": {
      "needs_background": "light"
     },
     "output_type": "display_data"
    }
   ],
   "source": [
    "plt.figure(figsize=(7,5))\n",
    "plt.plot('month_number', 'total_profit', data=data, ls='--', c='r', marker='o', markerfacecolor='k',\n",
    "         label='Profit data of last year', lw=3)\n",
    "plt.xticks(data['month_number'].tolist())\n",
    "plt.yticks([100000, 200000, 300000, 400000, 500000])\n",
    "plt.xlabel('Month Number')\n",
    "plt.ylabel('Sold units number')\n",
    "plt.legend(loc = 'lower right')\n",
    "plt.show()"
   ]
  },
  {
   "cell_type": "markdown",
   "metadata": {},
   "source": [
    "### Exercise Question 3: \n",
    "Read all product sales data and show it  using a multiline plot"
   ]
  },
  {
   "cell_type": "code",
   "execution_count": 7,
   "metadata": {},
   "outputs": [
    {
     "data": {
      "image/png": "[encoded data removed]",
      "text/plain": [
       "<Figure size 504x360 with 1 Axes>"
      ]
     },
     "metadata": {
      "needs_background": "light"
     },
     "output_type": "display_data"
    }
   ],
   "source": [
    "plt.figure(figsize=(7,5))\n",
    "plt.plot('month_number', 'facecream', data=data, label='Face Cream Sales Data', marker='o', linewidth=3)\n",
    "plt.plot('month_number', 'facewash', data=data, label='Face Wash Sales Data', marker='o', linewidth=3)\n",
    "plt.plot('month_number', 'toothpaste', data=data, label='Toothpaste Sales Data', marker='o', linewidth=3)\n",
    "plt.plot('month_number', 'bathingsoap', data=data, label='Bathingsoap Sales Data', marker='o', linewidth=3)\n",
    "plt.plot('month_number', 'shampoo', data=data, label='Shampoo Sales Data', marker='o', linewidth=3)\n",
    "plt.plot('month_number', 'moisturizer', data=data, label='Moisturizer Sales Data', marker='o', linewidth=3)\n",
    "plt.xlabel('Month Number')\n",
    "plt.ylabel('Sales units in number')\n",
    "plt.xticks(data['month_number'].tolist())\n",
    "plt.yticks([1000, 2000, 4000, 6000, 8000, 10000, 12000, 15000, 18000])\n",
    "plt.legend()\n",
    "plt.show()"
   ]
  },
  {
   "cell_type": "code",
   "execution_count": null,
   "metadata": {},
   "outputs": [],
   "source": []
  },
  {
   "cell_type": "markdown",
   "metadata": {},
   "source": [
    "### Exercise Question 4: \n",
    "Read toothpaste sales data of each month and show it using a scatter plot"
   ]
  },
  {
   "cell_type": "code",
   "execution_count": 10,
   "metadata": {},
   "outputs": [
    {
     "data": {
      "image/png": "[encoded data removed]",
      "text/plain": [
       "<Figure size 432x288 with 1 Axes>"
      ]
     },
     "metadata": {
      "needs_background": "light"
     },
     "output_type": "display_data"
    }
   ],
   "source": [
    "plt.scatter(x='toothpaste', y='total_units', data=data, label='Toothpaste sales data')\n",
    "plt.legend()\n",
    "plt.grid(linestyle='--')"
   ]
  },
  {
   "cell_type": "code",
   "execution_count": null,
   "metadata": {},
   "outputs": [],
   "source": []
  },
  {
   "cell_type": "code",
   "execution_count": 42,
   "metadata": {},
   "outputs": [
    {
     "data": {
      "image/png": "[encoded data removed]",
      "text/plain": [
       "<Figure size 432x288 with 1 Axes>"
      ]
     },
     "metadata": {
      "needs_background": "light"
     },
     "output_type": "display_data"
    }
   ],
   "source": [
    "monthList  = data ['month_number'].tolist()\n",
    "faceCremSalesData   = data ['facecream'].tolist()\n",
    "faceWashSalesData   = data ['facewash'].tolist()\n",
    "\n",
    "plt.bar(monthList, faceCremSalesData, width= 0.35, label = 'Face Cream sales data', align='edge')\n",
    "plt.bar(monthList, faceWashSalesData, width= -0.35, label = 'Face Wash sales data', align='edge')\n",
    "plt.xlabel('Month Number')\n",
    "plt.ylabel('Sales units in number')\n",
    "plt.legend(loc='upper left')\n",
    "plt.title(' Sales data')\n",
    "\n",
    "plt.xticks(monthList)\n",
    "plt.grid(True, linewidth= 1, linestyle=\"--\")\n",
    "plt.title('Facewash and facecream sales data')\n",
    "plt.show()"
   ]
  },
  {
   "cell_type": "code",
   "execution_count": 44,
   "metadata": {},
   "outputs": [
    {
     "data": {
      "text/plain": [
       "Index(['month_number', 'facecream', 'facewash', 'toothpaste', 'bathingsoap',\n",
       "       'shampoo', 'moisturizer', 'total_units', 'total_profit'],\n",
       "      dtype='object')"
      ]
     },
     "execution_count": 44,
     "metadata": {},
     "output_type": "execute_result"
    }
   ],
   "source": [
    "data.columns"
   ]
  },
  {
   "cell_type": "markdown",
   "metadata": {},
   "source": [
    "### Exercise Question 6: \n",
    "Read sales data of bathing soap of all months and show it using a bar chart. Save this plot to your hard disk"
   ]
  },
  {
   "cell_type": "code",
   "execution_count": 60,
   "metadata": {},
   "outputs": [
    {
     "data": {
      "image/png": "[encoded data removed]",
      "text/plain": [
       "<Figure size 432x288 with 1 Axes>"
      ]
     },
     "metadata": {
      "needs_background": "light"
     },
     "output_type": "display_data"
    }
   ],
   "source": [
    "save = plt.bar(monthList, data['bathingsoap'].tolist())\n",
    "plt.xticks(monthList)\n",
    "plt.savefig('q6_pic.png')"
   ]
  },
  {
   "cell_type": "code",
   "execution_count": null,
   "metadata": {},
   "outputs": [],
   "source": []
  },
  {
   "cell_type": "markdown",
   "metadata": {},
   "source": [
    "### Exercise Question 7: \n",
    "Read the total profit of each month and show it using the histogram to see most common profit ranges"
   ]
  },
  {
   "cell_type": "code",
   "execution_count": 129,
   "metadata": {},
   "outputs": [
    {
     "data": {
      "image/png": "[encoded data removed]",
      "text/plain": [
       "<Figure size 432x288 with 1 Axes>"
      ]
     },
     "metadata": {
      "needs_background": "light"
     },
     "output_type": "display_data"
    }
   ],
   "source": [
    "profit_range = [150000, 175000, 200000, 225000, 250000, 300000, 350000]\n",
    "profitList = data ['total_profit'].tolist()\n",
    "plt.hist(profitList, profit_range, label = 'Profit data')\n",
    "plt.xlabel('profit range in dollar')\n",
    "plt.ylabel('Actual Profit in dollar')\n",
    "plt.legend(loc='upper left')\n",
    "plt.xticks(profit_range)\n",
    "plt.title('Profit data')\n",
    "plt.show()"
   ]
  },
  {
   "cell_type": "code",
   "execution_count": 64,
   "metadata": {},
   "outputs": [
    {
     "data": {
      "text/html": [
       "<div>\n",
       "<style scoped>\n",
       "    .dataframe tbody tr th:only-of-type {\n",
       "        vertical-align: middle;\n",
       "    }\n",
       "\n",
       "    .dataframe tbody tr th {\n",
       "        vertical-align: top;\n",
       "    }\n",
       "\n",
       "    .dataframe thead th {\n",
       "        text-align: right;\n",
       "    }\n",
       "</style>\n",
       "<table border=\"1\" class=\"dataframe\">\n",
       "  <thead>\n",
       "    <tr style=\"text-align: right;\">\n",
       "      <th></th>\n",
       "      <th>month_number</th>\n",
       "      <th>facecream</th>\n",
       "      <th>facewash</th>\n",
       "      <th>toothpaste</th>\n",
       "      <th>bathingsoap</th>\n",
       "      <th>shampoo</th>\n",
       "      <th>moisturizer</th>\n",
       "      <th>total_units</th>\n",
       "      <th>total_profit</th>\n",
       "    </tr>\n",
       "  </thead>\n",
       "  <tbody>\n",
       "    <tr>\n",
       "      <th>0</th>\n",
       "      <td>1</td>\n",
       "      <td>2500</td>\n",
       "      <td>1500</td>\n",
       "      <td>5200</td>\n",
       "      <td>9200</td>\n",
       "      <td>1200</td>\n",
       "      <td>1500</td>\n",
       "      <td>21100</td>\n",
       "      <td>211000</td>\n",
       "    </tr>\n",
       "    <tr>\n",
       "      <th>1</th>\n",
       "      <td>2</td>\n",
       "      <td>2630</td>\n",
       "      <td>1200</td>\n",
       "      <td>5100</td>\n",
       "      <td>6100</td>\n",
       "      <td>2100</td>\n",
       "      <td>1200</td>\n",
       "      <td>18330</td>\n",
       "      <td>183300</td>\n",
       "    </tr>\n",
       "    <tr>\n",
       "      <th>2</th>\n",
       "      <td>3</td>\n",
       "      <td>2140</td>\n",
       "      <td>1340</td>\n",
       "      <td>4550</td>\n",
       "      <td>9550</td>\n",
       "      <td>3550</td>\n",
       "      <td>1340</td>\n",
       "      <td>22470</td>\n",
       "      <td>224700</td>\n",
       "    </tr>\n",
       "    <tr>\n",
       "      <th>3</th>\n",
       "      <td>4</td>\n",
       "      <td>3400</td>\n",
       "      <td>1130</td>\n",
       "      <td>5870</td>\n",
       "      <td>8870</td>\n",
       "      <td>1870</td>\n",
       "      <td>1130</td>\n",
       "      <td>22270</td>\n",
       "      <td>222700</td>\n",
       "    </tr>\n",
       "    <tr>\n",
       "      <th>4</th>\n",
       "      <td>5</td>\n",
       "      <td>3600</td>\n",
       "      <td>1740</td>\n",
       "      <td>4560</td>\n",
       "      <td>7760</td>\n",
       "      <td>1560</td>\n",
       "      <td>1740</td>\n",
       "      <td>20960</td>\n",
       "      <td>209600</td>\n",
       "    </tr>\n",
       "  </tbody>\n",
       "</table>\n",
       "</div>"
      ],
      "text/plain": [
       "   month_number  facecream  facewash  toothpaste  bathingsoap  shampoo  \\\n",
       "0             1       2500      1500        5200         9200     1200   \n",
       "1             2       2630      1200        5100         6100     2100   \n",
       "2             3       2140      1340        4550         9550     3550   \n",
       "3             4       3400      1130        5870         8870     1870   \n",
       "4             5       3600      1740        4560         7760     1560   \n",
       "\n",
       "   moisturizer  total_units  total_profit  \n",
       "0         1500        21100        211000  \n",
       "1         1200        18330        183300  \n",
       "2         1340        22470        224700  \n",
       "3         1130        22270        222700  \n",
       "4         1740        20960        209600  "
      ]
     },
     "execution_count": 64,
     "metadata": {},
     "output_type": "execute_result"
    }
   ],
   "source": [
    "data.head()"
   ]
  },
  {
   "cell_type": "code",
   "execution_count": null,
   "metadata": {},
   "outputs": [],
   "source": []
  },
  {
   "cell_type": "markdown",
   "metadata": {},
   "source": [
    "### Exercise Question 8: \n",
    "Calculate total sale data for last year for each product and show it using a Pie chart"
   ]
  },
  {
   "cell_type": "code",
   "execution_count": 108,
   "metadata": {},
   "outputs": [
    {
     "data": {
      "text/plain": [
       "<matplotlib.legend.Legend at 0x18f1443c4e0>"
      ]
     },
     "execution_count": 108,
     "metadata": {},
     "output_type": "execute_result"
    },
    {
     "data": {
      "image/png": "[encoded data removed]",
      "text/plain": [
       "<Figure size 720x432 with 1 Axes>"
      ]
     },
     "metadata": {},
     "output_type": "display_data"
    }
   ],
   "source": [
    "plt.figure(figsize=(10, 6))\n",
    "categories = data.columns[1:7]\n",
    "sales_data = [data['facecream'].sum(), data['facewash'].sum(), data['toothpaste'].sum(),\n",
    "              data['bathingsoap'].sum(), data['shampoo'].sum(), data['moisturizer'].sum()]\n",
    "plt.pie(sales_data, labels=categories, autopct='%1.1f%%')\n",
    "plt.legend(loc='lower right')"
   ]
  },
  {
   "cell_type": "code",
   "execution_count": null,
   "metadata": {},
   "outputs": [],
   "source": []
  },
  {
   "cell_type": "markdown",
   "metadata": {},
   "source": [
    "### Exercise Question 9: \n",
    "Read Bathing soap facewash of all months and display it using the Subplot"
   ]
  },
  {
   "cell_type": "code",
   "execution_count": 107,
   "metadata": {},
   "outputs": [
    {
     "data": {
      "text/plain": [
       "Text(0.5, 1.0, 'Sales data of  a facewash')"
      ]
     },
     "execution_count": 107,
     "metadata": {},
     "output_type": "execute_result"
    },
    {
     "data": {
      "text/plain": [
       "<Figure size 720x432 with 0 Axes>"
      ]
     },
     "metadata": {},
     "output_type": "display_data"
    },
    {
     "data": {
      "image/png": "[encoded data removed]",
      "text/plain": [
       "<Figure size 432x288 with 2 Axes>"
      ]
     },
     "metadata": {
      "needs_background": "light"
     },
     "output_type": "display_data"
    }
   ],
   "source": [
    "plt.figure(figsize=(10, 6))\n",
    "f, axarr = plt.subplots(2, sharex=True)\n",
    "monthList  = data ['month_number'].tolist()\n",
    "bathingsoap   = data ['bathingsoap'].tolist()\n",
    "faceWashSalesData   = data ['facewash'].tolist()\n",
    "axarr[0].plot(monthList, bathingsoap, label='Bathing sales data', marker='o', lw=3)\n",
    "axarr[0].set_title('Sales data of  a Bathingsoap')\n",
    "\n",
    "axarr[1].plot(monthList, faceWashSalesData, label = 'Face Wash Sales Data', c='r', marker='o', lw=3)\n",
    "axarr[1].set_title('Sales data of  a facewash')\n"
   ]
  },
  {
   "cell_type": "code",
   "execution_count": null,
   "metadata": {},
   "outputs": [],
   "source": []
  },
  {
   "cell_type": "markdown",
   "metadata": {},
   "source": [
    "### Exercise Question 10: \n",
    "Read all product sales data and show it using the stack plot"
   ]
  },
  {
   "cell_type": "code",
   "execution_count": 128,
   "metadata": {},
   "outputs": [
    {
     "data": {
      "text/plain": [
       "[<matplotlib.collections.PolyCollection at 0x18f10ae5fd0>,\n",
       " <matplotlib.collections.PolyCollection at 0x18f12b9e2e8>,\n",
       " <matplotlib.collections.PolyCollection at 0x18f123e0278>,\n",
       " <matplotlib.collections.PolyCollection at 0x18f123e0198>,\n",
       " <matplotlib.collections.PolyCollection at 0x18f123e0e80>,\n",
       " <matplotlib.collections.PolyCollection at 0x18f123e0898>]"
      ]
     },
     "execution_count": 128,
     "metadata": {},
     "output_type": "execute_result"
    },
    {
     "data": {
      "image/png": "[encoded data removed]",
      "text/plain": [
       "<Figure size 432x288 with 1 Axes>"
      ]
     },
     "metadata": {
      "needs_background": "light"
     },
     "output_type": "display_data"
    }
   ],
   "source": [
    "cream_sales = data['facecream'].tolist()\n",
    "wash_sales = data['facewash'].tolist()\n",
    "toothpaste_sales = data['toothpaste'].tolist()\n",
    "bathingsoap_sales = data['bathingsoap'].tolist()\n",
    "shampoo_sales = data['shampoo'].tolist()\n",
    "moisturizer_sales = data['moisturizer'].tolist()\n",
    "plt.stackplot(monthList, cream_sales, wash_sales, toothpaste_sales, bathingsoap_sales,\n",
    "              shampoo_sales, moisturizer_sales, colors=['blue', 'orange', 'pink', 'green', 'purple', 'c'])"
   ]
  },
  {
   "cell_type": "code",
   "execution_count": null,
   "metadata": {},
   "outputs": [],
   "source": []
  },
  {
   "cell_type": "code",
   "execution_count": null,
   "metadata": {},
   "outputs": [],
   "source": []
  }
 ],
 "metadata": {
  "kernelspec": {
   "display_name": "Python 3",
   "language": "python",
   "name": "python3"
  },
  "language_info": {
   "codemirror_mode": {
    "name": "ipython",
    "version": 3
   },
   "file_extension": ".py",
   "mimetype": "text/x-python",
   "name": "python",
   "nbconvert_exporter": "python",
   "pygments_lexer": "ipython3",
   "version": "3.7.1"
  }
 },
 "nbformat": 4,
 "nbformat_minor": 2
}
